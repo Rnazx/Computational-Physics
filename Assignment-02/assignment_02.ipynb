{
 "cells": [
  {
   "cell_type": "markdown",
   "metadata": {},
   "source": [
    "# Assignment-02\n"
   ]
  },
  {
   "cell_type": "code",
   "execution_count": 16,
   "metadata": {},
   "outputs": [],
   "source": [
    "import numpy as np\n",
    "import matplotlib.pyplot as plt"
   ]
  },
  {
   "cell_type": "markdown",
   "metadata": {},
   "source": [
    "## Question 1"
   ]
  },
  {
   "cell_type": "markdown",
   "metadata": {},
   "source": [
    "### Defining helper functions"
   ]
  },
  {
   "cell_type": "code",
   "execution_count": 17,
   "metadata": {},
   "outputs": [],
   "source": [
    "def forward_backward(L, U, b):\n",
    "    y = [0 for i in range(len(b))]\n",
    "\n",
    "    for i in range(len(b)):\n",
    "        sum = 0\n",
    "        for j in range(i):\n",
    "            sum += L[i][j] * y[j]\n",
    "        y[i] = b[i] - sum\n",
    "\n",
    "    x = [0 for i in range(len(b))]\n",
    "\n",
    "    for i in reversed(range(len(b))):\n",
    "        sum = 0\n",
    "        for j in range(i + 1, len(b)):\n",
    "            sum += U[i][j] * x[j]\n",
    "        x[i] = (y[i] - sum) / U[i][i]\n",
    "\n",
    "    return x\n",
    "def partial_pivot(A, b):\n",
    "    count = 0  \n",
    "    n = len(A)\n",
    "    for i in range(n - 1):\n",
    "        if abs(A[i][i]) < 1e-10:\n",
    "            for j in range(i + 1, n):\n",
    "                if abs(A[j][i]) > abs(A[i][i]):\n",
    "                    A[j], A[i] = (A[i], A[j], )  \n",
    "                    count += 1\n",
    "                    b[j], b[i] = ( b[i], b[j],)  \n",
    "    return A, b, count\n",
    "\n",
    "def crout(A):\n",
    "    n = len(A)\n",
    "\n",
    "    U = np.zeros((n,n))\n",
    "    L = np.zeros((n,n))\n",
    "\n",
    "    for i in range(len(A)):\n",
    "        L[i][i] = 1\n",
    "\n",
    "    for j in range(len(A)):\n",
    "        for i in range(len(A)):\n",
    "            sum = 0\n",
    "            for k in range(i):\n",
    "                sum += L[i][k] * U[k][j]\n",
    "            if i == j:\n",
    "                U[i][j] = A[i][j] - sum\n",
    "            elif i > j:\n",
    "                L[i][j] = (A[i][j] - sum) / U[j][j]\n",
    "            else:\n",
    "                U[i][j] = A[i][j] - sum\n",
    "\n",
    "    return L, U\n",
    "\n",
    "# solving x with crout's lu decomposition\n",
    "def solvex_lu(A, b):\n",
    "    partial_pivot(A, b)\n",
    "    L, U = crout(A)\n",
    "    x = forward_backward(L, U, b)\n",
    "    return x\n",
    "\n",
    "def poly_fit(X, Y, d = 1):\n",
    "    \n",
    "    n = len(X)\n",
    "    p = d + 1  \n",
    "    A = np.zeros((p, p))  \n",
    "    b = np.zeros(p)  \n",
    "\n",
    "    for i in range(p):\n",
    "        for j in range(p):\n",
    "            sum = 0\n",
    "            for k in range(n):\n",
    "                sum += X[k] ** (i + j)\n",
    "\n",
    "            A[i, j] = sum\n",
    "\n",
    "    for i in range(p):\n",
    "        sum = 0\n",
    "        for k in range(n):\n",
    "            sum += X[k] ** i * Y[k]\n",
    "\n",
    "        b[i] = sum\n",
    "\n",
    "    x = solvex_lu(A, b)\n",
    "    return x\n",
    "\n",
    "\n",
    "def cheby_poly(x, order):\n",
    "    if order == 0:return 1\n",
    "    elif order == 1:return 2 * x - 1\n",
    "    elif order == 2:return 8 * x**2 - 8 * x + 1\n",
    "    elif order == 3:return 32 * x**3 - 48 * x**2 + 18 * x - 1\n",
    "\n",
    "\n",
    "def cheby_fit(X, Y, d = 3):\n",
    "    n = len(X)\n",
    "    p = d + 1\n",
    "    A = np.zeros((p, p))\n",
    "    b = np.zeros(p)\n",
    "\n",
    "    for i in range(p):\n",
    "        for j in range(p):\n",
    "            sum = 0\n",
    "            for k in range(n):\n",
    "                sum += cheby_poly(X[k], j) * cheby_poly(X[k], i)\n",
    "            A[i, j] = sum\n",
    "\n",
    "    for i in range(p):\n",
    "        sum = 0\n",
    "        for k in range(n):\n",
    "            sum += cheby_poly(X[k], i) * Y[k]\n",
    "        b[i] = sum\n",
    "\n",
    "    x = solvex_lu(A, b)\n",
    "    return x"
   ]
  },
  {
   "cell_type": "markdown",
   "metadata": {},
   "source": [
    "### Main code"
   ]
  },
  {
   "cell_type": "code",
   "execution_count": 18,
   "metadata": {},
   "outputs": [
    {
     "name": "stdout",
     "output_type": "stream",
     "text": [
      "The coefficients obtained in the polynomial basis is :  [0.5746586674195995, 4.725861442142078, -11.128217777643616, 7.6686776229096685]\n",
      "The coefficients obtained in the chebychev functions basis is : [1.1609694790335525, 0.39351446798815237, 0.04684983209010658, 0.23964617571596986]\n"
     ]
    },
    {
     "data": {
      "text/plain": [
       "<matplotlib.legend.Legend at 0x7f6510f7a580>"
      ]
     },
     "execution_count": 18,
     "metadata": {},
     "output_type": "execute_result"
    },
    {
     "data": {
      "image/png": "[encoded data removed]",
      "text/plain": [
       "<Figure size 432x288 with 1 Axes>"
      ]
     },
     "metadata": {
      "needs_background": "light"
     },
     "output_type": "display_data"
    }
   ],
   "source": [
    "f = open('ass2_fit.txt', 'r')\n",
    "data = np.genfromtxt(f, delimiter='')\n",
    "f.close()\n",
    "\n",
    "\n",
    "X =  [data[j][0] for j in range(len(data))]\n",
    "Y = [data[j][1] for j in range(len(data))]\n",
    "\n",
    "coeff = poly_fit(X, Y, 3)\n",
    "coeff_c = cheby_fit(X, Y, 3)\n",
    "\n",
    "a_0, a_1, a_2, a_3 = coeff[0], coeff[1], coeff[2], coeff[3]\n",
    "c_0, c_1, c_2, c_3 = coeff_c[0], coeff_c[1], coeff_c[2], coeff_c[3]\n",
    "print(\"The coefficients obtained in the polynomial basis is :  {}\".format(coeff))\n",
    "print(\"The coefficients obtained in the chebychev functions basis is : {}\".format(coeff_c))\n",
    "\n",
    "x = np.linspace(0, 1, 100)\n",
    "y = a_0 + a_1 * x + a_2 * x**2 + a_3 * x**3\n",
    "y_c = c_0 + c_1 * cheby_poly(x,1) + c_2 * cheby_poly(x,2)+ c_3 * cheby_poly(x,3)\n",
    "\n",
    "plt.scatter(X, Y, c = 'g', label=\"Datapoints\")\n",
    "plt.plot(x, y, \"r\", label=\"poly-fit\")\n",
    "plt.plot(x, y_c, \"y\", label=\"cheby-fit\")\n",
    "\n",
    "plt.legend()\n",
    "plt.show()\n",
    "\n",
    "'''The coefficients obtained in the polynomial basis is :  [0.5746586674195995, 4.725861442142078, -11.128217777643616, 7.6686776229096685]\n",
    "The coefficients obtained in the chebychev functions basis is : [1.1609694790335525, 0.39351446798815237, 0.04684983209010658, 0.23964617571596986]'''"
   ]
  },
  {
   "cell_type": "markdown",
   "metadata": {},
   "source": [
    "## Question 2\n"
   ]
  },
  {
   "cell_type": "markdown",
   "metadata": {},
   "source": [
    "### Defining helper functions"
   ]
  },
  {
   "cell_type": "code",
   "execution_count": 19,
   "metadata": {},
   "outputs": [],
   "source": [
    "\n",
    "\n",
    "def mlcg(a, m, seed, N):\n",
    "    x = seed\n",
    "    r = []\n",
    "    for i in range(N):\n",
    "        x = (a * x) % m\n",
    "        r.append(x)\n",
    "\n",
    "    return np.array(r)\n",
    "\n",
    "def f(x):\n",
    "    return np.sqrt(1-x**2)\n",
    "  \n",
    "N=500000\n",
    "\n",
    "def pi_rand(a, m, N,seed1,seed2):\n",
    "    X = mlcg(a, m,seed1 , N)/m\n",
    "    Y = mlcg(a, m, seed2, N)/m\n",
    "    count=0\n",
    "    for i in range(N):\n",
    "        if(X[i]**2 +Y[i]**2) <=1:\n",
    "            count+=1\n",
    "    return count*(float(1/N))\n",
    "  \n",
    "def pi_mcinteg(a, m, N, func, seed):\n",
    "    xrand = mlcg( a, m,seed, N)/m\n",
    "    sum = 0\n",
    "    for i in range(N):\n",
    "        sum += func(xrand[i])\n",
    "    return 1/ float(N) * sum\n",
    "\n",
    "  \n"
   ]
  },
  {
   "cell_type": "markdown",
   "metadata": {},
   "source": [
    "### Main code"
   ]
  },
  {
   "cell_type": "code",
   "execution_count": 20,
   "metadata": {},
   "outputs": [
    {
     "name": "stdout",
     "output_type": "stream",
     "text": [
      "*******************************************************************************************\n",
      "Value of pi using random throw for a = 65,m = 1021 is: 3.1332959999999996 \n",
      "Value of pi using monte carlo integration for a = 65,m = 1021 is: 3.142638923121468 \n",
      "*******************************************************************************************\n",
      "Value of pi using random throw for a = 572,m = 16381 is: 3.140488 \n",
      "Value of pi using monte carlo integration for a = 572,m = 16381 is: 3.141602571694661 \n",
      "*******************************************************************************************\n"
     ]
    }
   ],
   "source": [
    "print('*******************************************************************************************')\n",
    "a = 65\n",
    "m = 1021\n",
    "print(\"Value of pi using random throw for a = {0},m = {1} is: {2} \".format(a,m,4*pi_rand(a,m,N,0.5,1.2)))\n",
    "print(\"Value of pi using monte carlo integration for a = {0},m = {1} is: {2} \".format(a,m,4*pi_mcinteg(a,m,N,f,1.2)))\n",
    "print('*******************************************************************************************')\n",
    "a = 572\n",
    "m = 16381\n",
    "print(\"Value of pi using random throw for a = {0},m = {1} is: {2} \".format(a,m,4*pi_rand(a,m,N,0.5,1.2)))\n",
    "print(\"Value of pi using monte carlo integration for a = {0},m = {1} is: {2} \".format(a,m,4*pi_mcinteg(a,m,N,f,1.2)))\n",
    "print('*******************************************************************************************')\n",
    "\n",
    "\n",
    "'''The coefficients obtained in the polynomial basis is :  [0.5746586674195995, 4.725861442142078, -11.128217777643616, 7.6686776229096685]\n",
    "The coefficients obtained in the chebychev functions basis is : [1.1609694790335525, 0.39351446798815237, 0.04684983209010658, 0.23964617571596986]\n",
    "<matplotlib.legend.Legend at 0x7f6510f7a580>\n",
    "\n",
    "*******************************************************************************************\n",
    "Value of pi using random throw for a = 65,m = 1021 is: 3.1332959999999996 \n",
    "Value of pi using monte carlo integration for a = 65,m = 1021 is: 3.142638923121468 \n",
    "*******************************************************************************************\n",
    "Value of pi using random throw for a = 572,m = 16381 is: 3.140488 \n",
    "Value of pi using monte carlo integration for a = 572,m = 16381 is: 3.141602571694661 \n",
    "*******************************************************************************************'''"
   ]
  },
  {
   "cell_type": "markdown",
   "metadata": {},
   "source": [
    "## Question 3"
   ]
  },
  {
   "cell_type": "markdown",
   "metadata": {},
   "source": [
    "### Main code"
   ]
  },
  {
   "cell_type": "code",
   "execution_count": 21,
   "metadata": {},
   "outputs": [
    {
     "name": "stdout",
     "output_type": "stream",
     "text": [
      "The volume between the two cylinders is : 5.333241179338101\n"
     ]
    }
   ],
   "source": [
    "def s(x):\n",
    "    return (2*np.sqrt(1-x**2))**2\n",
    "\n",
    "v = pi_mcinteg(a, m, N, s, 1.2)\n",
    "print(\"The volume between the two cylinders is :\",2*v) # factor of 2 because integration is from 0 to 1 whereas we need -1 to 1\n",
    "\n",
    "'''The volume between the two cylinders is : 5.333241179338101'''"
   ]
  }
 ],
 "metadata": {
  "interpreter": {
   "hash": "916dbcbb3f70747c44a77c7bcd40155683ae19c65e1c03b4aa3499c5328201f1"
  },
  "kernelspec": {
   "display_name": "Python 3.9.7 64-bit",
   "language": "python",
   "name": "python3"
  },
  "language_info": {
   "codemirror_mode": {
    "name": "ipython",
    "version": 3
   },
   "file_extension": ".py",
   "mimetype": "text/x-python",
   "name": "python",
   "nbconvert_exporter": "python",
   "pygments_lexer": "ipython3",
   "version": "3.9.7"
  },
  "orig_nbformat": 4
 },
 "nbformat": 4,
 "nbformat_minor": 2
}
